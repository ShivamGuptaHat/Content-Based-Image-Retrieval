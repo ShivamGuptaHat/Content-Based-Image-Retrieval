{
  "nbformat": 4,
  "nbformat_minor": 0,
  "metadata": {
    "colab": {
      "name": "assignment.ipynb",
      "provenance": [],
      "collapsed_sections": []
    },
    "kernelspec": {
      "name": "python3",
      "display_name": "Python 3"
    },
    "language_info": {
      "name": "python"
    }
  },
  "cells": [
    {
      "cell_type": "code",
      "metadata": {
        "id": "japgRRJ5HaWd"
      },
      "source": [
        "!git clone https://github.com/ShivamGuptaHat/Content-Based-Image-Retrieval.git"
      ],
      "execution_count": null,
      "outputs": []
    },
    {
      "cell_type": "code",
      "metadata": {
        "id": "JaHwaFs2Iz1y"
      },
      "source": [
        "cd /content/Content-Based-Image-Retrieval/Src"
      ],
      "execution_count": null,
      "outputs": []
    },
    {
      "cell_type": "code",
      "metadata": {
        "id": "Xq_XaQUsVY95"
      },
      "source": [
        "rm -rf /content/Content-Based-Image-Retrieval/Src/index.csv"
      ],
      "execution_count": null,
      "outputs": []
    },
    {
      "cell_type": "code",
      "metadata": {
        "id": "ndTuhnFKZUja"
      },
      "source": [
        "mkdir /content/Content-Based-Image-Retrieval/Src/output"
      ],
      "execution_count": null,
      "outputs": []
    },
    {
      "cell_type": "code",
      "metadata": {
        "id": "HW5SkQfAHris"
      },
      "source": [
        "!python index.py --dataset dataset --index index.csv"
      ],
      "execution_count": null,
      "outputs": []
    },
    {
      "cell_type": "markdown",
      "metadata": {
        "id": "HAybRNRvX99h"
      },
      "source": [
        "**Output1**"
      ]
    },
    {
      "cell_type": "code",
      "metadata": {
        "id": "XuOV3ntwHrYK"
      },
      "source": [
        "!python search.py --index index.csv --query queries/n735016.jpg --result-path dataset"
      ],
      "execution_count": null,
      "outputs": []
    },
    {
      "cell_type": "markdown",
      "metadata": {
        "id": "XfS5JQ-7a4_r"
      },
      "source": [
        "**Clear output directory**"
      ]
    },
    {
      "cell_type": "code",
      "metadata": {
        "id": "ndDhOucoa1iO"
      },
      "source": [
        "rm -rf /content/Content-Based-Image-Retrieval/Src/output/*"
      ],
      "execution_count": null,
      "outputs": []
    },
    {
      "cell_type": "markdown",
      "metadata": {
        "id": "D3SPMtIbYn2d"
      },
      "source": [
        "**Output2**"
      ]
    },
    {
      "cell_type": "code",
      "metadata": {
        "id": "ZbYRRzCJYnk8"
      },
      "source": [
        "!python search.py --index index.csv --query queries/art690.jpg --result-path dataset"
      ],
      "execution_count": null,
      "outputs": []
    }
  ]
}